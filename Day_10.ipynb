{
 "cells": [
  {
   "cell_type": "code",
   "execution_count": 1,
   "id": "60f30486",
   "metadata": {},
   "outputs": [],
   "source": [
    "from aocd import get_data"
   ]
  },
  {
   "cell_type": "code",
   "execution_count": 51,
   "id": "739e6388",
   "metadata": {},
   "outputs": [
    {
     "data": {
      "text/plain": [
       "[['noop'],\n",
       " ['noop'],\n",
       " ['noop'],\n",
       " ['addx', '6'],\n",
       " ['addx', '-1'],\n",
       " ['addx', '5'],\n",
       " ['noop'],\n",
       " ['noop'],\n",
       " ['noop'],\n",
       " ['addx', '5'],\n",
       " ['addx', '-8'],\n",
       " ['addx', '9'],\n",
       " ['addx', '3'],\n",
       " ['addx', '2'],\n",
       " ['addx', '4'],\n",
       " ['addx', '3'],\n",
       " ['noop'],\n",
       " ['addx', '2'],\n",
       " ['noop'],\n",
       " ['addx', '1'],\n",
       " ['addx', '6'],\n",
       " ['noop'],\n",
       " ['noop'],\n",
       " ['noop'],\n",
       " ['addx', '-39'],\n",
       " ['noop'],\n",
       " ['addx', '5'],\n",
       " ['addx', '2'],\n",
       " ['addx', '-2'],\n",
       " ['addx', '3'],\n",
       " ['addx', '2'],\n",
       " ['addx', '5'],\n",
       " ['addx', '2'],\n",
       " ['addx', '2'],\n",
       " ['addx', '13'],\n",
       " ['addx', '-12'],\n",
       " ['noop'],\n",
       " ['addx', '7'],\n",
       " ['noop'],\n",
       " ['addx', '2'],\n",
       " ['addx', '3'],\n",
       " ['noop'],\n",
       " ['addx', '-25'],\n",
       " ['addx', '30'],\n",
       " ['addx', '-10'],\n",
       " ['addx', '13'],\n",
       " ['addx', '-40'],\n",
       " ['noop'],\n",
       " ['addx', '5'],\n",
       " ['addx', '2'],\n",
       " ['addx', '3'],\n",
       " ['noop'],\n",
       " ['addx', '2'],\n",
       " ['addx', '3'],\n",
       " ['addx', '-2'],\n",
       " ['addx', '3'],\n",
       " ['addx', '-1'],\n",
       " ['addx', '7'],\n",
       " ['noop'],\n",
       " ['noop'],\n",
       " ['addx', '5'],\n",
       " ['addx', '-1'],\n",
       " ['addx', '6'],\n",
       " ['noop'],\n",
       " ['noop'],\n",
       " ['noop'],\n",
       " ['noop'],\n",
       " ['addx', '9'],\n",
       " ['noop'],\n",
       " ['addx', '-1'],\n",
       " ['noop'],\n",
       " ['addx', '-39'],\n",
       " ['addx', '2'],\n",
       " ['addx', '33'],\n",
       " ['addx', '-29'],\n",
       " ['addx', '1'],\n",
       " ['noop'],\n",
       " ['addx', '4'],\n",
       " ['noop'],\n",
       " ['noop'],\n",
       " ['noop'],\n",
       " ['addx', '3'],\n",
       " ['addx', '2'],\n",
       " ['noop'],\n",
       " ['addx', '3'],\n",
       " ['noop'],\n",
       " ['noop'],\n",
       " ['addx', '7'],\n",
       " ['addx', '2'],\n",
       " ['addx', '3'],\n",
       " ['addx', '-2'],\n",
       " ['noop'],\n",
       " ['addx', '-30'],\n",
       " ['noop'],\n",
       " ['addx', '40'],\n",
       " ['addx', '-2'],\n",
       " ['addx', '-38'],\n",
       " ['noop'],\n",
       " ['noop'],\n",
       " ['noop'],\n",
       " ['addx', '5'],\n",
       " ['addx', '5'],\n",
       " ['addx', '2'],\n",
       " ['addx', '-9'],\n",
       " ['addx', '5'],\n",
       " ['addx', '7'],\n",
       " ['addx', '2'],\n",
       " ['addx', '5'],\n",
       " ['addx', '-18'],\n",
       " ['addx', '28'],\n",
       " ['addx', '-7'],\n",
       " ['addx', '2'],\n",
       " ['addx', '5'],\n",
       " ['addx', '-28'],\n",
       " ['addx', '34'],\n",
       " ['addx', '-3'],\n",
       " ['noop'],\n",
       " ['addx', '3'],\n",
       " ['addx', '-38'],\n",
       " ['addx', '10'],\n",
       " ['addx', '-3'],\n",
       " ['addx', '29'],\n",
       " ['addx', '-28'],\n",
       " ['addx', '2'],\n",
       " ['noop'],\n",
       " ['noop'],\n",
       " ['noop'],\n",
       " ['addx', '5'],\n",
       " ['noop'],\n",
       " ['addx', '3'],\n",
       " ['addx', '2'],\n",
       " ['addx', '7'],\n",
       " ['noop'],\n",
       " ['addx', '-2'],\n",
       " ['addx', '5'],\n",
       " ['addx', '2'],\n",
       " ['noop'],\n",
       " ['addx', '1'],\n",
       " ['addx', '5'],\n",
       " ['noop'],\n",
       " ['noop'],\n",
       " ['addx', '-25'],\n",
       " ['noop'],\n",
       " ['noop']]"
      ]
     },
     "execution_count": 51,
     "metadata": {},
     "output_type": "execute_result"
    }
   ],
   "source": [
    "day10 = get_data(year=2022,day=10).split('\\n')\n",
    "day10 = [i.split(' ') for i in day10]\n",
    "day10"
   ]
  },
  {
   "cell_type": "code",
   "execution_count": 45,
   "id": "baadbbff",
   "metadata": {},
   "outputs": [],
   "source": [
    "class cpu:\n",
    "    def __init__(self,X=1,cycle=1,strength=0):\n",
    "        self.X = X\n",
    "        self.cycle = cycle\n",
    "        self.strength = strength\n",
    "        \n",
    "    def noop(self):\n",
    "        self.cycle += 1\n",
    "        self.check()\n",
    "        \n",
    "    def addx(self,V):\n",
    "        self.cycle += 1\n",
    "        self.check()\n",
    "        self.X += V\n",
    "        self.cycle += 1\n",
    "        self.check()\n",
    "        \n",
    "    def check(self):\n",
    "        if ((self.cycle % 20) == 0) and (((self.cycle // 20) % 2) == 1):\n",
    "            self.strength += self.X * self.cycle\n",
    "        \n",
    "    "
   ]
  },
  {
   "cell_type": "code",
   "execution_count": 55,
   "id": "5f529d02",
   "metadata": {},
   "outputs": [
    {
     "data": {
      "text/plain": [
       "14060"
      ]
     },
     "execution_count": 55,
     "metadata": {},
     "output_type": "execute_result"
    }
   ],
   "source": [
    "clock = cpu()\n",
    "\n",
    "for i in day10:\n",
    "    if i[0] == 'noop':\n",
    "        clock.noop()\n",
    "    elif i[0] == 'addx':\n",
    "        clock.addx(int(i[1]))\n",
    "\n",
    "clock.strength"
   ]
  },
  {
   "cell_type": "code",
   "execution_count": 87,
   "id": "59fb91d0",
   "metadata": {},
   "outputs": [],
   "source": [
    "import numpy as np\n",
    "import matplotlib.pyplot as plt"
   ]
  },
  {
   "cell_type": "code",
   "execution_count": 146,
   "id": "88fd51f5",
   "metadata": {},
   "outputs": [],
   "source": [
    "class cpu:\n",
    "    def __init__(self,X=1,cycle=0):\n",
    "        self.X = X\n",
    "        self.cycle = cycle\n",
    "        self.image = np.zeros([6,40])\n",
    "        \n",
    "    def noop(self):\n",
    "        self.check()\n",
    "        self.cycle += 1    \n",
    "    \n",
    "    def addx(self,V):\n",
    "        self.check()\n",
    "        self.cycle += 1\n",
    "        self.check()\n",
    "        self.X += V\n",
    "        self.cycle += 1\n",
    "        \n",
    "    def check(self):\n",
    "        x = self.cycle % 40\n",
    "        y = self.cycle // 40\n",
    "        if abs(x - self.X) <= 1:\n",
    "            self.image[y,x] = 1"
   ]
  },
  {
   "cell_type": "code",
   "execution_count": 148,
   "id": "c44a82f5",
   "metadata": {},
   "outputs": [
    {
     "data": {
      "text/plain": [
       "<matplotlib.image.AxesImage at 0x21a3de6d7f0>"
      ]
     },
     "execution_count": 148,
     "metadata": {},
     "output_type": "execute_result"
    },
    {
     "data": {
      "image/png": "[encoded data removed]",
      "text/plain": [
       "<Figure size 432x288 with 1 Axes>"
      ]
     },
     "metadata": {
      "needs_background": "light"
     },
     "output_type": "display_data"
    }
   ],
   "source": [
    "c = cpu()\n",
    "\n",
    "for i in day10:\n",
    "    if i[0] == 'noop':\n",
    "        c.noop()\n",
    "    elif i[0] == 'addx':\n",
    "        c.addx(int(i[1]))\n",
    "\n",
    "plt.imshow(c.image)"
   ]
  }
 ],
 "metadata": {
  "kernelspec": {
   "display_name": "Python 3 (ipykernel)",
   "language": "python",
   "name": "python3"
  },
  "language_info": {
   "codemirror_mode": {
    "name": "ipython",
    "version": 3
   },
   "file_extension": ".py",
   "mimetype": "text/x-python",
   "name": "python",
   "nbconvert_exporter": "python",
   "pygments_lexer": "ipython3",
   "version": "3.9.7"
  }
 },
 "nbformat": 4,
 "nbformat_minor": 5
}
