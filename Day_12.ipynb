{
 "cells": [
  {
   "cell_type": "code",
   "execution_count": 18,
   "id": "ef0377ac",
   "metadata": {},
   "outputs": [],
   "source": [
    "from aocd import get_data\n",
    "import networkx as nx\n",
    "import string\n",
    "import numpy as np"
   ]
  },
  {
   "cell_type": "code",
   "execution_count": 19,
   "id": "af1d002d",
   "metadata": {},
   "outputs": [],
   "source": [
    "day12 = get_data(year=2022,day=12).split('\\n')"
   ]
  },
  {
   "cell_type": "code",
   "execution_count": 20,
   "id": "3dbae343",
   "metadata": {},
   "outputs": [],
   "source": [
    "heightmap = dict([i for i in zip(string.ascii_lowercase,range(1,27))])\n",
    "heightmap['S'] = 1\n",
    "heightmap['E'] = 26"
   ]
  },
  {
   "cell_type": "code",
   "execution_count": 21,
   "id": "af85c281",
   "metadata": {},
   "outputs": [
    {
     "data": {
      "text/plain": [
       "{'a': 1,\n",
       " 'b': 2,\n",
       " 'c': 3,\n",
       " 'd': 4,\n",
       " 'e': 5,\n",
       " 'f': 6,\n",
       " 'g': 7,\n",
       " 'h': 8,\n",
       " 'i': 9,\n",
       " 'j': 10,\n",
       " 'k': 11,\n",
       " 'l': 12,\n",
       " 'm': 13,\n",
       " 'n': 14,\n",
       " 'o': 15,\n",
       " 'p': 16,\n",
       " 'q': 17,\n",
       " 'r': 18,\n",
       " 's': 19,\n",
       " 't': 20,\n",
       " 'u': 21,\n",
       " 'v': 22,\n",
       " 'w': 23,\n",
       " 'x': 24,\n",
       " 'y': 25,\n",
       " 'z': 26,\n",
       " 'S': 1,\n",
       " 'E': 26}"
      ]
     },
     "execution_count": 21,
     "metadata": {},
     "output_type": "execute_result"
    }
   ],
   "source": [
    "heightmap"
   ]
  },
  {
   "cell_type": "code",
   "execution_count": 62,
   "id": "a73cbc15",
   "metadata": {},
   "outputs": [],
   "source": [
    "height = np.array([[heightmap.get(i) for i in j] for j in day12])"
   ]
  },
  {
   "cell_type": "code",
   "execution_count": 66,
   "id": "c42750e3",
   "metadata": {},
   "outputs": [],
   "source": [
    "G = nx.DiGraph()\n",
    "for j in range(len(day12)):\n",
    "    for i in range(len(day12[j])):\n",
    "        if day12[j][i] == 'S':\n",
    "            start = (i,j)\n",
    "        if day12[j][i] == 'E':\n",
    "            end = (i,j)\n",
    "        G.add_node((i,j))\n"
   ]
  },
  {
   "cell_type": "code",
   "execution_count": 67,
   "id": "c4b7dab9",
   "metadata": {},
   "outputs": [],
   "source": [
    "for j in range(height.shape[0]):\n",
    "    for i in range(height.shape[1]):\n",
    "        if i > 0:\n",
    "            if height[j,i-1] <= height[j,i]+1:\n",
    "                G.add_edge((i,j),(i-1,j))\n",
    "        if j > 0:\n",
    "            if height[j-1,i] <= height[j,i]+1:\n",
    "                G.add_edge((i,j),(i,j-1))\n",
    "        if i < height.shape[1] - 1:\n",
    "            if height[j,i+1] <= height[j,i]+1:\n",
    "                G.add_edge((i,j),(i+1,j))\n",
    "        if j < height.shape[0] - 1:\n",
    "            if height[j+1,i] <= height[j,i]+1:\n",
    "                G.add_edge((i,j),(i,j+1))"
   ]
  },
  {
   "cell_type": "code",
   "execution_count": 69,
   "id": "9e75c823",
   "metadata": {},
   "outputs": [
    {
     "data": {
      "text/plain": [
       "339"
      ]
     },
     "execution_count": 69,
     "metadata": {},
     "output_type": "execute_result"
    }
   ],
   "source": [
    "nx.shortest_path_length(G,source=start,target=end)"
   ]
  },
  {
   "cell_type": "code",
   "execution_count": 80,
   "id": "840a9e90",
   "metadata": {},
   "outputs": [],
   "source": [
    "G = nx.DiGraph()\n",
    "start = []\n",
    "for j in range(len(day12)):\n",
    "    for i in range(len(day12[j])):\n",
    "        if (day12[j][i] == 'S') or (day12[j][i] == 'a'):\n",
    "            start.append((i,j))\n",
    "        if day12[j][i] == 'E':\n",
    "            end = (i,j)\n",
    "        G.add_node((i,j))\n",
    "\n",
    "for j in range(height.shape[0]):\n",
    "    for i in range(height.shape[1]):\n",
    "        if i > 0:\n",
    "            if height[j,i-1] <= height[j,i]+1:\n",
    "                G.add_edge((i,j),(i-1,j))\n",
    "        if j > 0:\n",
    "            if height[j-1,i] <= height[j,i]+1:\n",
    "                G.add_edge((i,j),(i,j-1))\n",
    "        if i < height.shape[1] - 1:\n",
    "            if height[j,i+1] <= height[j,i]+1:\n",
    "                G.add_edge((i,j),(i+1,j))\n",
    "        if j < height.shape[0] - 1:\n",
    "            if height[j+1,i] <= height[j,i]+1:\n",
    "                G.add_edge((i,j),(i,j+1))"
   ]
  },
  {
   "cell_type": "code",
   "execution_count": 83,
   "id": "8c4cd8d8",
   "metadata": {},
   "outputs": [
    {
     "data": {
      "text/plain": [
       "332"
      ]
     },
     "execution_count": 83,
     "metadata": {},
     "output_type": "execute_result"
    }
   ],
   "source": [
    "length = 339\n",
    "for s in start:\n",
    "    if nx.has_path(G,s,end):\n",
    "        l = nx.shortest_path_length(G,source=s,target=end)\n",
    "        if l < length:\n",
    "            length = l\n",
    "\n",
    "length"
   ]
  }
 ],
 "metadata": {
  "kernelspec": {
   "display_name": "Python 3 (ipykernel)",
   "language": "python",
   "name": "python3"
  },
  "language_info": {
   "codemirror_mode": {
    "name": "ipython",
    "version": 3
   },
   "file_extension": ".py",
   "mimetype": "text/x-python",
   "name": "python",
   "nbconvert_exporter": "python",
   "pygments_lexer": "ipython3",
   "version": "3.9.7"
  }
 },
 "nbformat": 4,
 "nbformat_minor": 5
}
