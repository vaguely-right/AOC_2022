{
 "cells": [
  {
   "cell_type": "code",
   "execution_count": 8,
   "id": "a73f69a3",
   "metadata": {},
   "outputs": [],
   "source": [
    "from aocd import get_data\n",
    "import numpy as np"
   ]
  },
  {
   "cell_type": "code",
   "execution_count": 9,
   "id": "6bc1540f",
   "metadata": {},
   "outputs": [],
   "source": [
    "day9 = get_data(year=2022,day=9).split('\\n')\n",
    "day9 = [i.split(' ') for i in day9]\n",
    "day9 = [[i[0],int(i[1])] for i in day9]"
   ]
  },
  {
   "cell_type": "code",
   "execution_count": 24,
   "id": "a1d14372",
   "metadata": {},
   "outputs": [
    {
     "data": {
      "text/plain": [
       "array([-1,  0])"
      ]
     },
     "execution_count": 24,
     "metadata": {},
     "output_type": "execute_result"
    }
   ],
   "source": [
    "head = np.array([-2,0])\n",
    "tail = np.array([0,0])\n",
    "np.sign(head-tail)"
   ]
  },
  {
   "cell_type": "code",
   "execution_count": 82,
   "id": "87bcc029",
   "metadata": {},
   "outputs": [
    {
     "ename": "AxisError",
     "evalue": "axis 1 is out of bounds for array of dimension 1",
     "output_type": "error",
     "traceback": [
      "\u001b[1;31m---------------------------------------------------------------------------\u001b[0m",
      "\u001b[1;31mAxisError\u001b[0m                                 Traceback (most recent call last)",
      "Input \u001b[1;32mIn [82]\u001b[0m, in \u001b[0;36m<cell line: 1>\u001b[1;34m()\u001b[0m\n\u001b[1;32m----> 1\u001b[0m \u001b[43mnp\u001b[49m\u001b[38;5;241;43m.\u001b[39;49m\u001b[43mappend\u001b[49m\u001b[43m(\u001b[49m\u001b[43mnp\u001b[49m\u001b[38;5;241;43m.\u001b[39;49m\u001b[43marray\u001b[49m\u001b[43m(\u001b[49m\u001b[43m[\u001b[49m\u001b[38;5;241;43m0\u001b[39;49m\u001b[43m,\u001b[49m\u001b[38;5;241;43m0\u001b[39;49m\u001b[43m]\u001b[49m\u001b[43m)\u001b[49m\u001b[43m,\u001b[49m\u001b[43mtail\u001b[49m\u001b[43m,\u001b[49m\u001b[43maxis\u001b[49m\u001b[38;5;241;43m=\u001b[39;49m\u001b[38;5;241;43m1\u001b[39;49m\u001b[43m)\u001b[49m\n",
      "File \u001b[1;32m<__array_function__ internals>:5\u001b[0m, in \u001b[0;36mappend\u001b[1;34m(*args, **kwargs)\u001b[0m\n",
      "File \u001b[1;32mC:\\ProgramData\\Anaconda3\\lib\\site-packages\\numpy\\lib\\function_base.py:4817\u001b[0m, in \u001b[0;36mappend\u001b[1;34m(arr, values, axis)\u001b[0m\n\u001b[0;32m   4815\u001b[0m     values \u001b[38;5;241m=\u001b[39m ravel(values)\n\u001b[0;32m   4816\u001b[0m     axis \u001b[38;5;241m=\u001b[39m arr\u001b[38;5;241m.\u001b[39mndim\u001b[38;5;241m-\u001b[39m\u001b[38;5;241m1\u001b[39m\n\u001b[1;32m-> 4817\u001b[0m \u001b[38;5;28;01mreturn\u001b[39;00m \u001b[43mconcatenate\u001b[49m\u001b[43m(\u001b[49m\u001b[43m(\u001b[49m\u001b[43marr\u001b[49m\u001b[43m,\u001b[49m\u001b[43m \u001b[49m\u001b[43mvalues\u001b[49m\u001b[43m)\u001b[49m\u001b[43m,\u001b[49m\u001b[43m \u001b[49m\u001b[43maxis\u001b[49m\u001b[38;5;241;43m=\u001b[39;49m\u001b[43maxis\u001b[49m\u001b[43m)\u001b[49m\n",
      "File \u001b[1;32m<__array_function__ internals>:5\u001b[0m, in \u001b[0;36mconcatenate\u001b[1;34m(*args, **kwargs)\u001b[0m\n",
      "\u001b[1;31mAxisError\u001b[0m: axis 1 is out of bounds for array of dimension 1"
     ]
    }
   ],
   "source": []
  },
  {
   "cell_type": "code",
   "execution_count": 103,
   "id": "4991ad16",
   "metadata": {},
   "outputs": [
    {
     "data": {
      "text/plain": [
       "6181"
      ]
     },
     "execution_count": 103,
     "metadata": {},
     "output_type": "execute_result"
    }
   ],
   "source": [
    "head = np.array([0,0])\n",
    "tail = np.array([0,0])\n",
    "positions = [[0,0]]\n",
    "directions = {'U':np.array([0,1]),'D':np.array([0,-1]),'L':np.array([-1,0]),'R':np.array([1,0])}\n",
    "\n",
    "for m in day9:\n",
    "    for n in range(m[1]):\n",
    "        # Move the head first\n",
    "        head += directions.get(m[0])\n",
    "        # Check if the tail is two away in any direction\n",
    "        if np.max(np.abs(head - tail)) == 2:\n",
    "            tail += np.sign(head-tail)\n",
    "            positions = positions + [list(tail)]\n",
    "\n",
    "len(np.unique(np.array(positions),axis=0))"
   ]
  },
  {
   "cell_type": "code",
   "execution_count": 109,
   "id": "d5f45251",
   "metadata": {},
   "outputs": [
    {
     "data": {
      "text/plain": [
       "2386"
      ]
     },
     "execution_count": 109,
     "metadata": {},
     "output_type": "execute_result"
    }
   ],
   "source": [
    "knots = [np.array([0,0]) for i in range(10)]\n",
    "positions = [[0,0]]\n",
    "directions = {'U':np.array([0,1]),'D':np.array([0,-1]),'L':np.array([-1,0]),'R':np.array([1,0])}\n",
    "\n",
    "for m in day9:\n",
    "    for n in range(m[1]):\n",
    "        # Move the head first\n",
    "        knots[0] += directions.get(m[0])\n",
    "        for k in range(1,10):\n",
    "            if np.max(np.abs(knots[k-1] - knots[k])) == 2:\n",
    "                knots[k] += np.sign(knots[k-1]-knots[k])\n",
    "        positions = positions + [list(knots[-1])]\n",
    "        \n",
    "len(np.unique(np.array(positions),axis=0))"
   ]
  },
  {
   "cell_type": "code",
   "execution_count": 108,
   "id": "1f5dcda0",
   "metadata": {},
   "outputs": [
    {
     "data": {
      "text/plain": [
       "[1, 2, 3, 4, 5, 6, 7, 8, 9]"
      ]
     },
     "execution_count": 108,
     "metadata": {},
     "output_type": "execute_result"
    }
   ],
   "source": [
    "[k for k in range(1,10)]"
   ]
  },
  {
   "cell_type": "code",
   "execution_count": null,
   "id": "6c30027c",
   "metadata": {},
   "outputs": [],
   "source": []
  }
 ],
 "metadata": {
  "kernelspec": {
   "display_name": "Python 3 (ipykernel)",
   "language": "python",
   "name": "python3"
  },
  "language_info": {
   "codemirror_mode": {
    "name": "ipython",
    "version": 3
   },
   "file_extension": ".py",
   "mimetype": "text/x-python",
   "name": "python",
   "nbconvert_exporter": "python",
   "pygments_lexer": "ipython3",
   "version": "3.9.7"
  }
 },
 "nbformat": 4,
 "nbformat_minor": 5
}
