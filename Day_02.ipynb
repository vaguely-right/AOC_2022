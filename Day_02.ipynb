{
 "cells": [
  {
   "cell_type": "code",
   "execution_count": 15,
   "id": "53995b14",
   "metadata": {},
   "outputs": [],
   "source": [
    "from aocd import get_data\n",
    "day2 = get_data(day=2,year=2022)\n",
    "import pandas as pd"
   ]
  },
  {
   "cell_type": "code",
   "execution_count": 27,
   "id": "fd7f515b",
   "metadata": {},
   "outputs": [],
   "source": [
    "day2 = day2.split('\\n')\n",
    "df = pd.DataFrame([i.split(' ') for i in day2])"
   ]
  },
  {
   "cell_type": "code",
   "execution_count": 23,
   "id": "5323a2c4",
   "metadata": {},
   "outputs": [
    {
     "data": {
      "text/plain": [
       "0  1\n",
       "B  Y    744\n",
       "A  X    374\n",
       "B  Z    350\n",
       "C  X    350\n",
       "   Y    276\n",
       "B  X    191\n",
       "C  Z    107\n",
       "A  Z     65\n",
       "   Y     43\n",
       "dtype: int64"
      ]
     },
     "execution_count": 23,
     "metadata": {},
     "output_type": "execute_result"
    }
   ],
   "source": [
    "df.value_counts()"
   ]
  },
  {
   "cell_type": "code",
   "execution_count": 24,
   "id": "ed7e658f",
   "metadata": {},
   "outputs": [],
   "source": [
    "points = {'A X':4,\n",
    "          'A Y':8,\n",
    "          'A Z':3,\n",
    "          'B X':1,\n",
    "          'B Y':5,\n",
    "          'B Z':9,\n",
    "          'C X':7,\n",
    "          'C Y':2,\n",
    "          'C Z':6}"
   ]
  },
  {
   "cell_type": "code",
   "execution_count": 25,
   "id": "1d87a13a",
   "metadata": {},
   "outputs": [
    {
     "data": {
      "text/plain": [
       "{'A X': 4,\n",
       " 'A Y': 8,\n",
       " 'A Z': 3,\n",
       " 'B X': 1,\n",
       " 'B Y': 5,\n",
       " 'B Z': 9,\n",
       " 'C X': 7,\n",
       " 'C Y': 2,\n",
       " 'C Z': 6}"
      ]
     },
     "execution_count": 25,
     "metadata": {},
     "output_type": "execute_result"
    }
   ],
   "source": [
    "points"
   ]
  },
  {
   "cell_type": "code",
   "execution_count": 31,
   "id": "ebecdb6f",
   "metadata": {},
   "outputs": [
    {
     "data": {
      "text/plain": [
       "12740"
      ]
     },
     "execution_count": 31,
     "metadata": {},
     "output_type": "execute_result"
    }
   ],
   "source": [
    "sum([points.get(i) for i in day2])"
   ]
  },
  {
   "cell_type": "code",
   "execution_count": 32,
   "id": "cff2214c",
   "metadata": {},
   "outputs": [],
   "source": [
    "points = {'A X':3,\n",
    "          'A Y':4,\n",
    "          'A Z':8,\n",
    "          'B X':1,\n",
    "          'B Y':5,\n",
    "          'B Z':9,\n",
    "          'C X':2,\n",
    "          'C Y':6,\n",
    "          'C Z':7}"
   ]
  },
  {
   "cell_type": "code",
   "execution_count": 33,
   "id": "19875ea4",
   "metadata": {},
   "outputs": [
    {
     "data": {
      "text/plain": [
       "11980"
      ]
     },
     "execution_count": 33,
     "metadata": {},
     "output_type": "execute_result"
    }
   ],
   "source": [
    "sum([points.get(i) for i in day2])"
   ]
  },
  {
   "cell_type": "code",
   "execution_count": null,
   "id": "033a7413",
   "metadata": {},
   "outputs": [],
   "source": []
  }
 ],
 "metadata": {
  "kernelspec": {
   "display_name": "Python 3 (ipykernel)",
   "language": "python",
   "name": "python3"
  },
  "language_info": {
   "codemirror_mode": {
    "name": "ipython",
    "version": 3
   },
   "file_extension": ".py",
   "mimetype": "text/x-python",
   "name": "python",
   "nbconvert_exporter": "python",
   "pygments_lexer": "ipython3",
   "version": "3.9.7"
  }
 },
 "nbformat": 4,
 "nbformat_minor": 5
}
