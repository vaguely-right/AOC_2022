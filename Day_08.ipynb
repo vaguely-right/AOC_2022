{
 "cells": [
  {
   "cell_type": "code",
   "execution_count": 13,
   "id": "4c649867",
   "metadata": {},
   "outputs": [],
   "source": [
    "from aocd import get_data\n",
    "day8 = get_data(year=2022,day=8).split('\\n')\n",
    "import numpy as np"
   ]
  },
  {
   "cell_type": "code",
   "execution_count": 15,
   "id": "3c4d29a1",
   "metadata": {},
   "outputs": [],
   "source": [
    "day8 = np.array([[int(i) for i in j] for j in day8])"
   ]
  },
  {
   "cell_type": "code",
   "execution_count": 31,
   "id": "26bf2563",
   "metadata": {},
   "outputs": [],
   "source": [
    "visible = np.full(day8.shape,False)\n",
    "\n",
    "# Look from the left\n",
    "for i in range(day8.shape[0]):\n",
    "    height = -1\n",
    "    for j in range(day8.shape[1]):\n",
    "        if day8[i,j] > height:\n",
    "            visible[i,j] = True\n",
    "            height = day8[i,j]\n",
    "\n",
    "# Look from the right\n",
    "for i in range(day8.shape[0]-1,-1,-1):\n",
    "    height = -1\n",
    "    for j in range(day8.shape[1]-1,-1,-1):\n",
    "        if day8[i,j] > height:\n",
    "            visible[i,j] = True\n",
    "            height = day8[i,j]\n",
    "\n",
    "# Look from the top\n",
    "for j in range(day8.shape[1]):\n",
    "    height = -1\n",
    "    for i in range(day8.shape[0]):\n",
    "        if day8[i,j] > height:\n",
    "            visible[i,j] = True\n",
    "            height = day8[i,j]\n",
    "\n",
    "# Look from the bottom\n",
    "for j in range(day8.shape[1]-1,-1,-1):\n",
    "    height = -1\n",
    "    for i in range(day8.shape[0]-1,-1,-1):\n",
    "        if day8[i,j] > height:\n",
    "            visible[i,j] = True\n",
    "            height = day8[i,j]"
   ]
  },
  {
   "cell_type": "code",
   "execution_count": 33,
   "id": "81003f34",
   "metadata": {},
   "outputs": [
    {
     "data": {
      "text/plain": [
       "1820"
      ]
     },
     "execution_count": 33,
     "metadata": {},
     "output_type": "execute_result"
    }
   ],
   "source": [
    "np.sum(visible)"
   ]
  },
  {
   "cell_type": "code",
   "execution_count": 43,
   "id": "32e1d497",
   "metadata": {},
   "outputs": [],
   "source": [
    "score = np.zeros(day8.shape)"
   ]
  },
  {
   "cell_type": "code",
   "execution_count": 48,
   "id": "d83390c3",
   "metadata": {},
   "outputs": [
    {
     "data": {
      "text/plain": [
       "385112.0"
      ]
     },
     "execution_count": 48,
     "metadata": {},
     "output_type": "execute_result"
    }
   ],
   "source": [
    "score = np.zeros(day8.shape)\n",
    "\n",
    "# Cycle through all the locations\n",
    "for i in range(day8.shape[0]):\n",
    "    for j in range(day8.shape[1]):\n",
    "        \n",
    "        # Look up\n",
    "        blocked = False\n",
    "        a,b = i,j\n",
    "        up = 0\n",
    "        while (blocked==False) and (a>0):\n",
    "            a -= 1\n",
    "            up += 1\n",
    "            if day8[a,b] >= day8[i,j]:\n",
    "                blocked = True\n",
    "        \n",
    "        # Look down\n",
    "        blocked = False\n",
    "        a,b = i,j\n",
    "        down = 0\n",
    "        while (blocked==False) and (a<98):\n",
    "            a += 1\n",
    "            down += 1\n",
    "            if day8[a,b] >= day8[i,j]:\n",
    "                blocked = True\n",
    "                \n",
    "        # Look left\n",
    "        blocked = False\n",
    "        a,b = i,j\n",
    "        left = 0\n",
    "        while (blocked==False) and (b>0):\n",
    "            b -= 1\n",
    "            left += 1\n",
    "            if day8[a,b] >= day8[i,j]:\n",
    "                blocked = True\n",
    "                \n",
    "        # Look right\n",
    "        blocked = False\n",
    "        a,b = i,j\n",
    "        right = 0\n",
    "        while (blocked==False) and (b<98):\n",
    "            b += 1\n",
    "            right += 1\n",
    "            if day8[a,b] >= day8[i,j]:\n",
    "                blocked = True\n",
    "                \n",
    "        # Calculate the score for this location\n",
    "        score[i,j] = up * down * left * right\n",
    "        \n",
    "np.max(score)"
   ]
  }
 ],
 "metadata": {
  "kernelspec": {
   "display_name": "Python 3 (ipykernel)",
   "language": "python",
   "name": "python3"
  },
  "language_info": {
   "codemirror_mode": {
    "name": "ipython",
    "version": 3
   },
   "file_extension": ".py",
   "mimetype": "text/x-python",
   "name": "python",
   "nbconvert_exporter": "python",
   "pygments_lexer": "ipython3",
   "version": "3.9.7"
  }
 },
 "nbformat": 4,
 "nbformat_minor": 5
}
