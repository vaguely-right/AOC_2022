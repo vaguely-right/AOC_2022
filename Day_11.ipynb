{
 "cells": [
  {
   "cell_type": "code",
   "execution_count": 1,
   "id": "99b13f82",
   "metadata": {},
   "outputs": [],
   "source": [
    "from aocd import get_data"
   ]
  },
  {
   "cell_type": "code",
   "execution_count": 11,
   "id": "f7e9ec8a",
   "metadata": {},
   "outputs": [],
   "source": [
    "class monkey:\n",
    "    def __init__(self,objects=[], operation='+', value=0, divisor=1, truemonkey=1, falsemonkey=2):\n",
    "        self.objects = objects\n",
    "        self.operation = operation\n",
    "        self.value = 0\n",
    "        self.divisor = 1\n",
    "        self.truemonkey = 1\n",
    "        self.falsemonkey = 2\n",
    "        self.inspections = 0"
   ]
  },
  {
   "cell_type": "code",
   "execution_count": 28,
   "id": "f7fd7792",
   "metadata": {},
   "outputs": [],
   "source": [
    "day11 = [i.split('\\n') for i in get_data(year=2022,day=11).split('\\n\\n')]"
   ]
  },
  {
   "cell_type": "code",
   "execution_count": 29,
   "id": "89f0556b",
   "metadata": {},
   "outputs": [
    {
     "data": {
      "text/plain": [
       "['Monkey 0:',\n",
       " '  Starting items: 59, 65, 86, 56, 74, 57, 56',\n",
       " '  Operation: new = old * 17',\n",
       " '  Test: divisible by 3',\n",
       " '    If true: throw to monkey 3',\n",
       " '    If false: throw to monkey 6']"
      ]
     },
     "execution_count": 29,
     "metadata": {},
     "output_type": "execute_result"
    }
   ],
   "source": [
    "day11[0]"
   ]
  },
  {
   "cell_type": "code",
   "execution_count": 78,
   "id": "a46d125a",
   "metadata": {},
   "outputs": [],
   "source": [
    "monkeys = []\n",
    "\n",
    "for m in day11:\n",
    "    mon = monkey()\n",
    "    mon.objects = [int(i) for i in m[1].replace(':',',').split(', ')[1:]]\n",
    "    if m[2].split(' ')[-1] == 'old':\n",
    "        mon.operation = '**'\n",
    "        mon.value = 2\n",
    "    else:\n",
    "        mon.operation = m[2].split(' ')[-2]\n",
    "        mon.value = int(m[2].split(' ')[-1])\n",
    "    mon.divisor = int(m[3].split(' ')[-1])\n",
    "    mon.truemonkey = int(m[4].split(' ')[-1])\n",
    "    mon.falsemonkey = int(m[5].split(' ')[-1])\n",
    "    monkeys.append(mon)"
   ]
  },
  {
   "cell_type": "code",
   "execution_count": 79,
   "id": "536a7348",
   "metadata": {},
   "outputs": [],
   "source": [
    "for r in range(20):\n",
    "    for m in monkeys:\n",
    "        for i in m.objects:\n",
    "            worry = eval(str(i)+' '+m.operation+' '+str(m.value)) // 3\n",
    "            if (worry % m.divisor) == 0:\n",
    "                monkeys[m.truemonkey].objects.append(worry)\n",
    "            else:\n",
    "                monkeys[m.falsemonkey].objects.append(worry)\n",
    "            m.inspections += 1\n",
    "        m.objects = []"
   ]
  },
  {
   "cell_type": "code",
   "execution_count": 90,
   "id": "b45329e4",
   "metadata": {},
   "outputs": [
    {
     "data": {
      "text/plain": [
       "58322"
      ]
     },
     "execution_count": 90,
     "metadata": {},
     "output_type": "execute_result"
    }
   ],
   "source": [
    "mb = [m.inspections for m in monkeys]\n",
    "mb.sort(reverse=True)\n",
    "mb[0] * mb[1]"
   ]
  },
  {
   "cell_type": "code",
   "execution_count": 109,
   "id": "c27c3ea2",
   "metadata": {},
   "outputs": [],
   "source": [
    "monkeys = []\n",
    "\n",
    "for m in day11:\n",
    "    mon = monkey()\n",
    "    mon.objects = [int(i) for i in m[1].replace(':',',').split(', ')[1:]]\n",
    "    if m[2].split(' ')[-1] == 'old':\n",
    "        mon.operation = '**'\n",
    "        mon.value = 2\n",
    "    else:\n",
    "        mon.operation = m[2].split(' ')[-2]\n",
    "        mon.value = int(m[2].split(' ')[-1])\n",
    "    mon.divisor = int(m[3].split(' ')[-1])\n",
    "    mon.truemonkey = int(m[4].split(' ')[-1])\n",
    "    mon.falsemonkey = int(m[5].split(' ')[-1])\n",
    "    monkeys.append(mon)"
   ]
  },
  {
   "cell_type": "code",
   "execution_count": 110,
   "id": "495d6b69",
   "metadata": {},
   "outputs": [],
   "source": [
    "import numpy as np\n",
    "lcm = np.lcm.reduce([m.divisor for m in monkeys])"
   ]
  },
  {
   "cell_type": "code",
   "execution_count": 111,
   "id": "499728f3",
   "metadata": {},
   "outputs": [],
   "source": [
    "for r in range(10000):\n",
    "    for m in monkeys:\n",
    "        for i in m.objects:\n",
    "            worry = eval(str(i)+' '+m.operation+' '+str(m.value)) % lcm\n",
    "            if (worry % m.divisor) == 0:\n",
    "                monkeys[m.truemonkey].objects.append(worry)\n",
    "            else:\n",
    "                monkeys[m.falsemonkey].objects.append(worry)\n",
    "            m.inspections += 1\n",
    "        m.objects = []"
   ]
  },
  {
   "cell_type": "code",
   "execution_count": 112,
   "id": "de137de3",
   "metadata": {},
   "outputs": [
    {
     "data": {
      "text/plain": [
       "13937702909"
      ]
     },
     "execution_count": 112,
     "metadata": {},
     "output_type": "execute_result"
    }
   ],
   "source": [
    "mb = [m.inspections for m in monkeys]\n",
    "mb.sort(reverse=True)\n",
    "mb[0] * mb[1]"
   ]
  },
  {
   "cell_type": "code",
   "execution_count": null,
   "id": "ec1e6f5b",
   "metadata": {},
   "outputs": [],
   "source": []
  }
 ],
 "metadata": {
  "kernelspec": {
   "display_name": "Python 3 (ipykernel)",
   "language": "python",
   "name": "python3"
  },
  "language_info": {
   "codemirror_mode": {
    "name": "ipython",
    "version": 3
   },
   "file_extension": ".py",
   "mimetype": "text/x-python",
   "name": "python",
   "nbconvert_exporter": "python",
   "pygments_lexer": "ipython3",
   "version": "3.9.7"
  }
 },
 "nbformat": 4,
 "nbformat_minor": 5
}
