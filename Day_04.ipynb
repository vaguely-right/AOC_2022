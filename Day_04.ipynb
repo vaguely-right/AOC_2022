{
 "cells": [
  {
   "cell_type": "code",
   "execution_count": 39,
   "id": "2b520693",
   "metadata": {},
   "outputs": [],
   "source": [
    "from aocd import get_data\n",
    "day4 = get_data(year=2022,day=4).split('\\n')"
   ]
  },
  {
   "cell_type": "code",
   "execution_count": 40,
   "id": "1c5357e4",
   "metadata": {},
   "outputs": [],
   "source": [
    "day4 = [i.replace('-',',').split(',') for i in day4]"
   ]
  },
  {
   "cell_type": "code",
   "execution_count": 42,
   "id": "381e6f63",
   "metadata": {},
   "outputs": [],
   "source": [
    "day4 = [[int(i) for i in j] for j in day4]"
   ]
  },
  {
   "cell_type": "code",
   "execution_count": 44,
   "id": "34aa80e9",
   "metadata": {},
   "outputs": [
    {
     "name": "stdout",
     "output_type": "stream",
     "text": [
      "494\n"
     ]
    }
   ],
   "source": [
    "overlaps = 0\n",
    "for i in day4:\n",
    "    if (i[2]>=i[0] and i[3]<=i[1]) or (i[2]<=i[0] and i[3]>=i[1]):\n",
    "        overlaps += 1\n",
    "\n",
    "print(overlaps)"
   ]
  },
  {
   "cell_type": "code",
   "execution_count": 45,
   "id": "a9b87fc5",
   "metadata": {},
   "outputs": [
    {
     "name": "stdout",
     "output_type": "stream",
     "text": [
      "833\n"
     ]
    }
   ],
   "source": [
    "overlaps = 0\n",
    "for i in day4:\n",
    "    if (i[3]>=i[0] and i[2]<=i[1]) or (i[3]<=i[0] and i[2]>=i[1]):\n",
    "        overlaps += 1\n",
    "print(overlaps)"
   ]
  },
  {
   "cell_type": "code",
   "execution_count": null,
   "id": "94b930fa",
   "metadata": {},
   "outputs": [],
   "source": []
  }
 ],
 "metadata": {
  "kernelspec": {
   "display_name": "Python 3 (ipykernel)",
   "language": "python",
   "name": "python3"
  },
  "language_info": {
   "codemirror_mode": {
    "name": "ipython",
    "version": 3
   },
   "file_extension": ".py",
   "mimetype": "text/x-python",
   "name": "python",
   "nbconvert_exporter": "python",
   "pygments_lexer": "ipython3",
   "version": "3.9.7"
  }
 },
 "nbformat": 4,
 "nbformat_minor": 5
}
