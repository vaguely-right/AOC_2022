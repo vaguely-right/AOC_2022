{
 "cells": [
  {
   "cell_type": "code",
   "execution_count": 1,
   "id": "19d848f5",
   "metadata": {},
   "outputs": [],
   "source": [
    "from aocd import get_data"
   ]
  },
  {
   "cell_type": "code",
   "execution_count": 6,
   "id": "9ac70cbd",
   "metadata": {},
   "outputs": [],
   "source": [
    "day13 = get_data(year=2022,day=13).split('\\n\\n')"
   ]
  },
  {
   "cell_type": "code",
   "execution_count": 35,
   "id": "d711056f",
   "metadata": {},
   "outputs": [],
   "source": [
    "left,right = [eval(i) for i in day13[0].split('\\n')]"
   ]
  },
  {
   "cell_type": "code",
   "execution_count": 33,
   "id": "c7ad2911",
   "metadata": {},
   "outputs": [
    {
     "data": {
      "text/plain": [
       "NoneType"
      ]
     },
     "execution_count": 33,
     "metadata": {},
     "output_type": "execute_result"
    }
   ],
   "source": [
    "type(None)"
   ]
  },
  {
   "cell_type": "code",
   "execution_count": 43,
   "id": "2f423511",
   "metadata": {},
   "outputs": [],
   "source": [
    "def compare(left, right):\n",
    "\n",
    "    # Both are integers: evaluate and return\n",
    "    if type(left)==int and type(right)==int:\n",
    "        if left < right:\n",
    "            return 1\n",
    "        elif left > right:\n",
    "            return 0\n",
    "        else:\n",
    "            return None\n",
    "            \n",
    "    # One is an integer and one is a list; convert the integer to a list and continue\n",
    "    if (type(left)==int and type(right)==list):\n",
    "        left = [left]\n",
    "    if (type(left)==list and type(right)==int):\n",
    "        right = [right]\n",
    "    \n",
    "    # Both are lists; compare element-wise\n",
    "    i = 0\n",
    "    while i < min(len(left),len(right)):\n",
    "        result = compare(left[i],right[i])\n",
    "        if type(result) == int:\n",
    "            return result\n",
    "        else:\n",
    "            i += 1\n",
    "    \n",
    "    # If one list is longer than the other return that result\n",
    "    if len(left) < len(right):\n",
    "        return 1\n",
    "    elif len(left) > len(right):\n",
    "        return 0\n",
    "    else:\n",
    "        return None"
   ]
  },
  {
   "cell_type": "code",
   "execution_count": 45,
   "id": "67f108d3",
   "metadata": {},
   "outputs": [
    {
     "name": "stdout",
     "output_type": "stream",
     "text": [
      "0\n"
     ]
    }
   ],
   "source": [
    "left = [1,[2,[3,[4,[5,6,7]]]],8,9]\n",
    "right = [1,[2,[3,[4,[5,6,0]]]],8,9]\n",
    "c = compare(left,right)\n",
    "print(c)"
   ]
  },
  {
   "cell_type": "code",
   "execution_count": 46,
   "id": "91bfde7e",
   "metadata": {},
   "outputs": [
    {
     "data": {
      "text/plain": [
       "5003"
      ]
     },
     "execution_count": 46,
     "metadata": {},
     "output_type": "execute_result"
    }
   ],
   "source": [
    "index = 0\n",
    "answer = 0\n",
    "for pair in day13:\n",
    "    index += 1\n",
    "    left,right = [eval(i) for i in pair.split('\\n')]\n",
    "    result = compare(left,right)\n",
    "    if result == 1:\n",
    "        answer += index\n",
    "    \n",
    "answer"
   ]
  },
  {
   "cell_type": "code",
   "execution_count": 59,
   "id": "242c129a",
   "metadata": {},
   "outputs": [
    {
     "data": {
      "text/plain": [
       "302"
      ]
     },
     "execution_count": 59,
     "metadata": {},
     "output_type": "execute_result"
    }
   ],
   "source": [
    "packets = []\n",
    "for pair in day13:\n",
    "    left,right = [eval(i) for i in pair.split('\\n')]\n",
    "    packets = packets + [left] + [right]\n",
    "packets = packets + [[[2]]] + [[[6]]]\n",
    "len(packets)"
   ]
  },
  {
   "cell_type": "code",
   "execution_count": 60,
   "id": "3e18e85a",
   "metadata": {},
   "outputs": [],
   "source": [
    "again = True\n",
    "while again:\n",
    "    again = False\n",
    "    for i in range(len(packets)-1):\n",
    "        c = compare(packets[i],packets[i+1])\n",
    "        if c==0:\n",
    "            packets[i],packets[i+1] = packets[i+1],packets[i]\n",
    "            again = True"
   ]
  },
  {
   "cell_type": "code",
   "execution_count": 64,
   "id": "4f4a28c7",
   "metadata": {},
   "outputs": [
    {
     "data": {
      "text/plain": [
       "20280"
      ]
     },
     "execution_count": 64,
     "metadata": {},
     "output_type": "execute_result"
    }
   ],
   "source": [
    "(packets.index([[2]])+1) * (packets.index([[6]])+1)"
   ]
  },
  {
   "cell_type": "code",
   "execution_count": null,
   "id": "ca4a36e8",
   "metadata": {},
   "outputs": [],
   "source": []
  }
 ],
 "metadata": {
  "kernelspec": {
   "display_name": "Python 3 (ipykernel)",
   "language": "python",
   "name": "python3"
  },
  "language_info": {
   "codemirror_mode": {
    "name": "ipython",
    "version": 3
   },
   "file_extension": ".py",
   "mimetype": "text/x-python",
   "name": "python",
   "nbconvert_exporter": "python",
   "pygments_lexer": "ipython3",
   "version": "3.9.7"
  }
 },
 "nbformat": 4,
 "nbformat_minor": 5
}
