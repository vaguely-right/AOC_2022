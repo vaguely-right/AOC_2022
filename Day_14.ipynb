{
 "cells": [
  {
   "cell_type": "code",
   "execution_count": 1,
   "id": "1f9c4cd7",
   "metadata": {},
   "outputs": [],
   "source": [
    "from aocd import get_data"
   ]
  },
  {
   "cell_type": "code",
   "execution_count": 13,
   "id": "3f110d50",
   "metadata": {},
   "outputs": [],
   "source": [
    "day14 = [[[int(k) for k in j.split(',')] for j in i.split(' -> ')] for i in get_data(year=2022,day=14).split('\\n')]"
   ]
  },
  {
   "cell_type": "code",
   "execution_count": 56,
   "id": "1019db6d",
   "metadata": {},
   "outputs": [],
   "source": [
    "rocks = set()\n",
    "for path in day14:\n",
    "    for start,end in zip(path[:-1],path[1:]):\n",
    "        x = range(min(start[0],end[0]),max(start[0],end[0])+1)\n",
    "        y = range(min(start[1],end[1]),max(start[1],end[1])+1)\n",
    "        [rocks.add((i,j)) for i in x for j in y]"
   ]
  },
  {
   "cell_type": "code",
   "execution_count": 57,
   "id": "87f63714",
   "metadata": {},
   "outputs": [
    {
     "data": {
      "text/plain": [
       "1298"
      ]
     },
     "execution_count": 57,
     "metadata": {},
     "output_type": "execute_result"
    }
   ],
   "source": [
    "sand = set()\n",
    "source = (500,0)\n",
    "abyss = max([i[1] for i in rocks])\n",
    "moresand = True\n",
    "\n",
    "while moresand:\n",
    "    # Add more sand\n",
    "    flow = True\n",
    "    x,y = source\n",
    "    while flow:\n",
    "        # Check for flow down\n",
    "        if ((x,y+1) not in rocks) and ((x,y+1) not in sand):\n",
    "            y += 1\n",
    "        # Check for flow down and left\n",
    "        elif ((x-1,y+1) not in rocks) and ((x-1,y+1) not in sand):\n",
    "            x -= 1\n",
    "            y += 1\n",
    "        # Check for flow down and right\n",
    "        elif ((x+1,y+1) not in rocks) and ((x+1,y+1) not in sand):\n",
    "            x += 1\n",
    "            y += 1\n",
    "        # If there's nowhere to flow, end this piece of sand\n",
    "        else:\n",
    "            flow = False\n",
    "            sand.add((x,y))\n",
    "        # If the sand is at the abyss, end everything\n",
    "        if y == abyss:\n",
    "            flow = False\n",
    "            moresand = False\n",
    "            \n",
    "len(sand)"
   ]
  },
  {
   "cell_type": "code",
   "execution_count": 60,
   "id": "ccbfc7ff",
   "metadata": {},
   "outputs": [
    {
     "data": {
      "text/plain": [
       "25585"
      ]
     },
     "execution_count": 60,
     "metadata": {},
     "output_type": "execute_result"
    }
   ],
   "source": [
    "sand = set()\n",
    "source = (500,0)\n",
    "floor = max([i[1] for i in rocks])+1\n",
    "moresand = True\n",
    "\n",
    "while moresand:\n",
    "    # Add more sand\n",
    "    flow = True\n",
    "    x,y = source\n",
    "    while flow:\n",
    "        # Check for flow down\n",
    "        if ((x,y+1) not in rocks) and ((x,y+1) not in sand):\n",
    "            y += 1\n",
    "        # Check for flow down and left\n",
    "        elif ((x-1,y+1) not in rocks) and ((x-1,y+1) not in sand):\n",
    "            x -= 1\n",
    "            y += 1\n",
    "        # Check for flow down and right\n",
    "        elif ((x+1,y+1) not in rocks) and ((x+1,y+1) not in sand):\n",
    "            x += 1\n",
    "            y += 1\n",
    "        # If there's nowhere to flow, end this piece of sand\n",
    "        else:\n",
    "            flow = False\n",
    "            sand.add((x,y))\n",
    "        # If the sand is at the floor, it's stopped\n",
    "        if y == floor:\n",
    "            flow = False\n",
    "            sand.add((x,y))\n",
    "        # If the sand is at the source, stop everything\n",
    "        if (x,y) == source:\n",
    "            flow = False\n",
    "            moresand = False\n",
    "            \n",
    "len(sand)"
   ]
  },
  {
   "cell_type": "code",
   "execution_count": 59,
   "id": "2e797361",
   "metadata": {},
   "outputs": [
    {
     "data": {
      "text/plain": [
       "True"
      ]
     },
     "execution_count": 59,
     "metadata": {},
     "output_type": "execute_result"
    }
   ],
   "source": [
    "source == (500,0)"
   ]
  },
  {
   "cell_type": "code",
   "execution_count": null,
   "id": "241440b9",
   "metadata": {},
   "outputs": [],
   "source": []
  }
 ],
 "metadata": {
  "kernelspec": {
   "display_name": "Python 3 (ipykernel)",
   "language": "python",
   "name": "python3"
  },
  "language_info": {
   "codemirror_mode": {
    "name": "ipython",
    "version": 3
   },
   "file_extension": ".py",
   "mimetype": "text/x-python",
   "name": "python",
   "nbconvert_exporter": "python",
   "pygments_lexer": "ipython3",
   "version": "3.9.7"
  }
 },
 "nbformat": 4,
 "nbformat_minor": 5
}
