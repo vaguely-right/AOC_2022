{
 "cells": [
  {
   "cell_type": "code",
   "execution_count": 38,
   "id": "9f2d3d8e",
   "metadata": {},
   "outputs": [],
   "source": [
    "from aocd import get_data\n",
    "day3 = get_data(day=3,year=2022).split('\\n')\n",
    "import string"
   ]
  },
  {
   "cell_type": "code",
   "execution_count": 7,
   "id": "67c37b46",
   "metadata": {},
   "outputs": [],
   "source": [
    "test = \"\"\"vJrwpWtwJgWrhcsFMMfFFhFp\n",
    "jqHRNqRjqzjGDLGLrsFMfFZSrLrFZsSL\n",
    "PmmdzqPrVvPwwTWBwg\n",
    "wMqvLMZHhHMvwLHjbvcjnnSBnvTQFn\n",
    "ttgJtRGJQctTZtZT\n",
    "CrZsJsPPZsGzwwsLwLmpwMDw\"\"\""
   ]
  },
  {
   "cell_type": "code",
   "execution_count": 8,
   "id": "05861a1a",
   "metadata": {},
   "outputs": [],
   "source": [
    "test = test.split('\\n')"
   ]
  },
  {
   "cell_type": "code",
   "execution_count": 9,
   "id": "b2fbfdab",
   "metadata": {},
   "outputs": [
    {
     "data": {
      "text/plain": [
       "'vJrwpWtwJgWrhcsFMMfFFhFp'"
      ]
     },
     "execution_count": 9,
     "metadata": {},
     "output_type": "execute_result"
    }
   ],
   "source": [
    "test[0]"
   ]
  },
  {
   "cell_type": "code",
   "execution_count": 14,
   "id": "fa851497",
   "metadata": {},
   "outputs": [
    {
     "data": {
      "text/plain": [
       "'hcsFMMfFFhFp'"
      ]
     },
     "execution_count": 14,
     "metadata": {},
     "output_type": "execute_result"
    }
   ],
   "source": [
    "a = test[0]\n",
    "left = a[0:len(a)//2]\n",
    "right = a[len(a)//2:]\n",
    "left\n",
    "right"
   ]
  },
  {
   "cell_type": "code",
   "execution_count": 33,
   "id": "60d4a305",
   "metadata": {},
   "outputs": [
    {
     "data": {
      "text/plain": [
       "'p'"
      ]
     },
     "execution_count": 33,
     "metadata": {},
     "output_type": "execute_result"
    }
   ],
   "source": [
    "list(set(left).intersection(right))[0]"
   ]
  },
  {
   "cell_type": "code",
   "execution_count": 29,
   "id": "231883f7",
   "metadata": {},
   "outputs": [],
   "source": [
    "priorities = dict([i for i in zip(string.ascii_lowercase+string.ascii_uppercase,range(1,53))])"
   ]
  },
  {
   "cell_type": "code",
   "execution_count": 39,
   "id": "8aa32575",
   "metadata": {},
   "outputs": [
    {
     "name": "stdout",
     "output_type": "stream",
     "text": [
      "7568\n"
     ]
    }
   ],
   "source": [
    "priority = 0\n",
    "for a in day3:\n",
    "    left = a[0:len(a)//2]\n",
    "    right = a[len(a)//2:]\n",
    "    priority += priorities.get(list(set(left).intersection(right))[0])\n",
    "\n",
    "print(priority)"
   ]
  },
  {
   "cell_type": "code",
   "execution_count": 41,
   "id": "79fd4324",
   "metadata": {},
   "outputs": [
    {
     "data": {
      "text/plain": [
       "300"
      ]
     },
     "execution_count": 41,
     "metadata": {},
     "output_type": "execute_result"
    }
   ],
   "source": [
    "len(day3)"
   ]
  },
  {
   "cell_type": "code",
   "execution_count": 52,
   "id": "d55699ba",
   "metadata": {},
   "outputs": [
    {
     "name": "stdout",
     "output_type": "stream",
     "text": [
      "2780\n"
     ]
    }
   ],
   "source": [
    "priority = 0\n",
    "for i in range(len(day3)//3):\n",
    "    a = day3[i*3]\n",
    "    b = day3[i*3+1]\n",
    "    c = day3[i*3+2]\n",
    "    badge = list(set(a).intersection(b).intersection(c))[0]\n",
    "    priority += priorities.get(badge)\n",
    "    \n",
    "print(priority)"
   ]
  },
  {
   "cell_type": "code",
   "execution_count": null,
   "id": "7db5df7f",
   "metadata": {},
   "outputs": [],
   "source": []
  }
 ],
 "metadata": {
  "kernelspec": {
   "display_name": "Python 3 (ipykernel)",
   "language": "python",
   "name": "python3"
  },
  "language_info": {
   "codemirror_mode": {
    "name": "ipython",
    "version": 3
   },
   "file_extension": ".py",
   "mimetype": "text/x-python",
   "name": "python",
   "nbconvert_exporter": "python",
   "pygments_lexer": "ipython3",
   "version": "3.9.7"
  }
 },
 "nbformat": 4,
 "nbformat_minor": 5
}
